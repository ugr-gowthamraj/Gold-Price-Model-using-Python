{
  "nbformat": 4,
  "nbformat_minor": 0,
  "metadata": {
    "colab": {
      "name": "GoldPrice Statistical model.ipynb",
      "provenance": []
    },
    "kernelspec": {
      "name": "python3",
      "display_name": "Python 3"
    }
  },
  "cells": [
    {
      "cell_type": "code",
      "metadata": {
        "colab": {
          "resources": {
            "http://localhost:8080/nbextensions/google.colab/files.js": {
              "data": "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",
              "ok": true,
              "headers": [
                [
                  "content-type",
                  "application/javascript"
                ]
              ],
              "status": 200,
              "status_text": "OK"
            }
          },
          "base_uri": "https://localhost:8080/",
          "height": 75
        },
        "id": "tpIZnl1mubJ2",
        "outputId": "aeb739cc-ec19-4797-8d7b-36ac3ec94834"
      },
      "source": [
        "#uploading file to ide - colab\r\n",
        "\r\n",
        "from google.colab import files \r\n",
        "\r\n",
        "file_upload=files.upload()"
      ],
      "execution_count": null,
      "outputs": [
        {
          "output_type": "display_data",
          "data": {
            "text/html": [
              "\n",
              "     <input type=\"file\" id=\"files-4a0fa505-c4e9-4281-9133-0bef0644ed1e\" name=\"files[]\" multiple disabled\n",
              "        style=\"border:none\" />\n",
              "     <output id=\"result-4a0fa505-c4e9-4281-9133-0bef0644ed1e\">\n",
              "      Upload widget is only available when the cell has been executed in the\n",
              "      current browser session. Please rerun this cell to enable.\n",
              "      </output>\n",
              "      <script src=\"/nbextensions/google.colab/files.js\"></script> "
            ],
            "text/plain": [
              "<IPython.core.display.HTML object>"
            ]
          },
          "metadata": {
            "tags": []
          }
        },
        {
          "output_type": "stream",
          "text": [
            "Saving goldprice.csv to goldprice (1).csv\n"
          ],
          "name": "stdout"
        }
      ]
    },
    {
      "cell_type": "code",
      "metadata": {
        "colab": {
          "base_uri": "https://localhost:8080/"
        },
        "id": "Sk8D2zpbvGnx",
        "outputId": "2b997229-423e-459f-a315-3a438ee1e15c"
      },
      "source": [
        "#storing the file as dataset\r\n",
        "\r\n",
        "import io \r\n",
        "import pandas as pd\r\n",
        "\r\n",
        "dataset = pd.read_csv(io.BytesIO(file_upload['goldprice.csv'])) \r\n",
        "print(dataset)"
      ],
      "execution_count": null,
      "outputs": [
        {
          "output_type": "stream",
          "text": [
            "                Date        x        y\n",
            "0   01 February 2021  1857.36  1836.48\n",
            "1   02 February 2021  1836.48  1834.36\n",
            "2   03 February 2021  1834.36  1795.54\n",
            "3   04 February 2021  1795.54  1814.25\n",
            "4   05 February 2021  1814.25  1830.61\n",
            "5   08 February 2021  1830.61  1836.25\n",
            "6   09 February 2021  1836.25  1842.08\n",
            "7   10 February 2021  1842.08  1826.82\n",
            "8   11 February 2021  1826.82  1824.77\n",
            "9   12 February 2021  1824.77  1818.73\n",
            "10  15 February 2021  1818.73  1788.48\n",
            "11  16 February 2021  1788.48  1778.27\n",
            "12  17 February 2021  1778.27  1771.52\n",
            "13  18 February 2021  1771.52  1784.28\n",
            "14  19 February 2021  1784.28  1810.67\n",
            "15  22 February 2021  1810.67  1805.99\n",
            "16  23 February 2021  1805.99  1803.10\n",
            "17  24 February 2021  1803.10  1770.69\n",
            "18  25 February 2021  1770.69  1734.78\n"
          ],
          "name": "stdout"
        }
      ]
    },
    {
      "cell_type": "code",
      "metadata": {
        "id": "yaFd4VJ5vrcJ"
      },
      "source": [
        "#Modeling starts\r\n",
        "#for simple line equ. model we need to find slope and intercept...claculation of other variable needed to compute slope and intercept\r\n",
        "\r\n",
        "#Calculating mean of x,y\r\n",
        "\r\n",
        "x_mean = dataset['x'].mean()\r\n",
        "y_mean = dataset['y'].mean()"
      ],
      "execution_count": null,
      "outputs": []
    },
    {
      "cell_type": "code",
      "metadata": {
        "colab": {
          "base_uri": "https://localhost:8080/"
        },
        "id": "mSdHzcSVwrUo",
        "outputId": "bb8c11d4-ba8b-4a7e-d412-656b1b2232fb"
      },
      "source": [
        "#calculating x-x_mean and storing it in the same dataset\r\n",
        "\r\n",
        "dataset['x - x_mean'] = dataset['x'] - x_mean\r\n",
        "print(dataset)"
      ],
      "execution_count": null,
      "outputs": [
        {
          "output_type": "stream",
          "text": [
            "                Date        x        y  x - x_mean\n",
            "0   01 February 2021  1857.36  1836.48   45.241579\n",
            "1   02 February 2021  1836.48  1834.36   24.361579\n",
            "2   03 February 2021  1834.36  1795.54   22.241579\n",
            "3   04 February 2021  1795.54  1814.25  -16.578421\n",
            "4   05 February 2021  1814.25  1830.61    2.131579\n",
            "5   08 February 2021  1830.61  1836.25   18.491579\n",
            "6   09 February 2021  1836.25  1842.08   24.131579\n",
            "7   10 February 2021  1842.08  1826.82   29.961579\n",
            "8   11 February 2021  1826.82  1824.77   14.701579\n",
            "9   12 February 2021  1824.77  1818.73   12.651579\n",
            "10  15 February 2021  1818.73  1788.48    6.611579\n",
            "11  16 February 2021  1788.48  1778.27  -23.638421\n",
            "12  17 February 2021  1778.27  1771.52  -33.848421\n",
            "13  18 February 2021  1771.52  1784.28  -40.598421\n",
            "14  19 February 2021  1784.28  1810.67  -27.838421\n",
            "15  22 February 2021  1810.67  1805.99   -1.448421\n",
            "16  23 February 2021  1805.99  1803.10   -6.128421\n",
            "17  24 February 2021  1803.10  1770.69   -9.018421\n",
            "18  25 February 2021  1770.69  1734.78  -41.428421\n"
          ],
          "name": "stdout"
        }
      ]
    },
    {
      "cell_type": "code",
      "metadata": {
        "colab": {
          "base_uri": "https://localhost:8080/"
        },
        "id": "ent3G1sMxdir",
        "outputId": "aa33e316-f462-47b6-b652-d1c1c2eebc88"
      },
      "source": [
        "#calculating y-y_mean and storing it in the same dataset\r\n",
        "\r\n",
        "dataset['y - y_mean'] = dataset['y'] - y_mean\r\n",
        "print(dataset)"
      ],
      "execution_count": null,
      "outputs": [
        {
          "output_type": "stream",
          "text": [
            "                Date        x        y  x - x_mean  y - y_mean\n",
            "0   01 February 2021  1857.36  1836.48   45.241579   30.813158\n",
            "1   02 February 2021  1836.48  1834.36   24.361579   28.693158\n",
            "2   03 February 2021  1834.36  1795.54   22.241579  -10.126842\n",
            "3   04 February 2021  1795.54  1814.25  -16.578421    8.583158\n",
            "4   05 February 2021  1814.25  1830.61    2.131579   24.943158\n",
            "5   08 February 2021  1830.61  1836.25   18.491579   30.583158\n",
            "6   09 February 2021  1836.25  1842.08   24.131579   36.413158\n",
            "7   10 February 2021  1842.08  1826.82   29.961579   21.153158\n",
            "8   11 February 2021  1826.82  1824.77   14.701579   19.103158\n",
            "9   12 February 2021  1824.77  1818.73   12.651579   13.063158\n",
            "10  15 February 2021  1818.73  1788.48    6.611579  -17.186842\n",
            "11  16 February 2021  1788.48  1778.27  -23.638421  -27.396842\n",
            "12  17 February 2021  1778.27  1771.52  -33.848421  -34.146842\n",
            "13  18 February 2021  1771.52  1784.28  -40.598421  -21.386842\n",
            "14  19 February 2021  1784.28  1810.67  -27.838421    5.003158\n",
            "15  22 February 2021  1810.67  1805.99   -1.448421    0.323158\n",
            "16  23 February 2021  1805.99  1803.10   -6.128421   -2.566842\n",
            "17  24 February 2021  1803.10  1770.69   -9.018421  -34.976842\n",
            "18  25 February 2021  1770.69  1734.78  -41.428421  -70.886842\n"
          ],
          "name": "stdout"
        }
      ]
    },
    {
      "cell_type": "code",
      "metadata": {
        "colab": {
          "base_uri": "https://localhost:8080/"
        },
        "id": "w23f3hQnxD3d",
        "outputId": "506215f5-f38d-444d-d92f-acb9a0221a0a"
      },
      "source": [
        "#calculating (x - x_mean)^2 and storing it in the same dataset\r\n",
        "\r\n",
        "dataset['(x - x_mean)^2'] = dataset['x - x_mean']*dataset['x - x_mean']\r\n",
        "print(dataset)"
      ],
      "execution_count": null,
      "outputs": [
        {
          "output_type": "stream",
          "text": [
            "                Date        x        y  x - x_mean  y - y_mean  (x - x_mean)^2\n",
            "0   01 February 2021  1857.36  1836.48   45.241579   30.813158     2046.800466\n",
            "1   02 February 2021  1836.48  1834.36   24.361579   28.693158      593.486529\n",
            "2   03 February 2021  1834.36  1795.54   22.241579  -10.126842      494.687834\n",
            "3   04 February 2021  1795.54  1814.25  -16.578421    8.583158      274.844045\n",
            "4   05 February 2021  1814.25  1830.61    2.131579   24.943158        4.543629\n",
            "5   08 February 2021  1830.61  1836.25   18.491579   30.583158      341.938492\n",
            "6   09 February 2021  1836.25  1842.08   24.131579   36.413158      582.333102\n",
            "7   10 February 2021  1842.08  1826.82   29.961579   21.153158      897.696213\n",
            "8   11 February 2021  1826.82  1824.77   14.701579   19.103158      216.136424\n",
            "9   12 February 2021  1824.77  1818.73   12.651579   13.063158      160.062450\n",
            "10  15 February 2021  1818.73  1788.48    6.611579  -17.186842       43.712976\n",
            "11  16 February 2021  1788.48  1778.27  -23.638421  -27.396842      558.774950\n",
            "12  17 February 2021  1778.27  1771.52  -33.848421  -34.146842     1145.715608\n",
            "13  18 February 2021  1771.52  1784.28  -40.598421  -21.386842     1648.231792\n",
            "14  19 February 2021  1784.28  1810.67  -27.838421    5.003158      774.977687\n",
            "15  22 February 2021  1810.67  1805.99   -1.448421    0.323158        2.097924\n",
            "16  23 February 2021  1805.99  1803.10   -6.128421   -2.566842       37.557545\n",
            "17  24 February 2021  1803.10  1770.69   -9.018421  -34.976842       81.331918\n",
            "18  25 February 2021  1770.69  1734.78  -41.428421  -70.886842     1716.314071\n"
          ],
          "name": "stdout"
        }
      ]
    },
    {
      "cell_type": "code",
      "metadata": {
        "colab": {
          "base_uri": "https://localhost:8080/"
        },
        "id": "HR06adi2xVLM",
        "outputId": "251cc513-8786-4093-ef70-22eefe0abc17"
      },
      "source": [
        "#calculating (x - x_mean) * (y - y_mean) and storing it in the same dataset\r\n",
        "\r\n",
        "dataset['(x - x_mean) * (y - y_mean)']=dataset['x - x_mean']*dataset['y - y_mean']\r\n",
        "print(dataset)"
      ],
      "execution_count": null,
      "outputs": [
        {
          "output_type": "stream",
          "text": [
            "                Date        x  ...  (x - x_mean)^2  (x - x_mean) * (y - y_mean)\n",
            "0   01 February 2021  1857.36  ...     2046.800466                  1394.035916\n",
            "1   02 February 2021  1836.48  ...      593.486529                   699.010631\n",
            "2   03 February 2021  1834.36  ...      494.687834                  -225.236958\n",
            "3   04 February 2021  1795.54  ...      274.844045                  -142.295206\n",
            "4   05 February 2021  1814.25  ...        4.543629                    53.168310\n",
            "5   08 February 2021  1830.61  ...      341.938492                   565.530879\n",
            "6   09 February 2021  1836.25  ...      582.333102                   878.706994\n",
            "7   10 February 2021  1842.08  ...      897.696213                   633.782010\n",
            "8   11 February 2021  1826.82  ...      216.136424                   280.846584\n",
            "9   12 February 2021  1824.77  ...      160.062450                   165.269573\n",
            "10  15 February 2021  1818.73  ...       43.712976                  -113.632163\n",
            "11  16 February 2021  1788.48  ...      558.774950                   647.618089\n",
            "12  17 February 2021  1778.27  ...     1145.715608                  1155.816689\n",
            "13  18 February 2021  1771.52  ...     1648.231792                   868.272021\n",
            "14  19 February 2021  1784.28  ...      774.977687                  -139.280016\n",
            "15  22 February 2021  1810.67  ...        2.097924                    -0.468069\n",
            "16  23 February 2021  1805.99  ...       37.557545                    15.730689\n",
            "17  24 February 2021  1803.10  ...       81.331918                   315.435889\n",
            "18  25 February 2021  1770.69  ...     1716.314071                  2936.729942\n",
            "\n",
            "[19 rows x 7 columns]\n"
          ],
          "name": "stdout"
        }
      ]
    },
    {
      "cell_type": "code",
      "metadata": {
        "colab": {
          "base_uri": "https://localhost:8080/"
        },
        "id": "SRQE9UjAyj3Z",
        "outputId": "824442d7-4a45-45fa-abfd-351692aa4575"
      },
      "source": [
        "#Formulating line equ. y = mx + c\r\n",
        "\r\n",
        "slope= dataset['(x - x_mean) * (y - y_mean)'].sum()/dataset['(x - x_mean)^2'].sum()\r\n",
        "intercept=y_mean - slope*x_mean\r\n",
        "print(\"Linear Regression model equ.: y = \",slope,\"x + \",intercept)"
      ],
      "execution_count": null,
      "outputs": [
        {
          "output_type": "stream",
          "text": [
            "Linear Regression model equ.: y =  0.8595501569232815 x +  248.06016892590424\n"
          ],
          "name": "stdout"
        }
      ]
    },
    {
      "cell_type": "code",
      "metadata": {
        "colab": {
          "base_uri": "https://localhost:8080/"
        },
        "id": "efJTTtvhz4jf",
        "outputId": "00594aa2-8a9c-4a7d-aa4e-2a8e8111662e"
      },
      "source": [
        "#calculating the estimated y values\r\n",
        "\r\n",
        "dataset['Est_y']=(slope*dataset['x']) + intercept\r\n",
        "print(dataset)"
      ],
      "execution_count": null,
      "outputs": [
        {
          "output_type": "stream",
          "text": [
            "                Date        x  ...  (x - x_mean) * (y - y_mean)        Est_y\n",
            "0   01 February 2021  1857.36  ...                  1394.035916  1844.554248\n",
            "1   02 February 2021  1836.48  ...                   699.010631  1826.606841\n",
            "2   03 February 2021  1834.36  ...                  -225.236958  1824.784595\n",
            "3   04 February 2021  1795.54  ...                  -142.295206  1791.416858\n",
            "4   05 February 2021  1814.25  ...                    53.168310  1807.499041\n",
            "5   08 February 2021  1830.61  ...                   565.530879  1821.561282\n",
            "6   09 February 2021  1836.25  ...                   878.706994  1826.409145\n",
            "7   10 February 2021  1842.08  ...                   633.782010  1831.420322\n",
            "8   11 February 2021  1826.82  ...                   280.846584  1818.303587\n",
            "9   12 February 2021  1824.77  ...                   165.269573  1816.541509\n",
            "10  15 February 2021  1818.73  ...                  -113.632163  1811.349826\n",
            "11  16 February 2021  1788.48  ...                   647.618089  1785.348434\n",
            "12  17 February 2021  1778.27  ...                  1155.816689  1776.572426\n",
            "13  18 February 2021  1771.52  ...                   868.272021  1770.770463\n",
            "14  19 February 2021  1784.28  ...                  -139.280016  1781.738323\n",
            "15  22 February 2021  1810.67  ...                    -0.468069  1804.421852\n",
            "16  23 February 2021  1805.99  ...                    15.730689  1800.399157\n",
            "17  24 February 2021  1803.10  ...                   315.435889  1797.915057\n",
            "18  25 February 2021  1770.69  ...                  2936.729942  1770.057036\n",
            "\n",
            "[19 rows x 8 columns]\n"
          ],
          "name": "stdout"
        }
      ]
    },
    {
      "cell_type": "code",
      "metadata": {
        "colab": {
          "base_uri": "https://localhost:8080/"
        },
        "id": "gqYwEq1Q0UIw",
        "outputId": "83ce1234-ac2d-4529-a67e-cec0e3ec6cc2"
      },
      "source": [
        "#calculating error to check the acceptance of the model\r\n",
        "\r\n",
        "dataset['y - Est_y'] = dataset['y'] - dataset['Est_y']\r\n",
        "print(dataset)"
      ],
      "execution_count": null,
      "outputs": [
        {
          "output_type": "stream",
          "text": [
            "                Date        x  ...        Est_y  y - Est_y\n",
            "0   01 February 2021  1857.36  ...  1844.554248  -8.074248\n",
            "1   02 February 2021  1836.48  ...  1826.606841   7.753159\n",
            "2   03 February 2021  1834.36  ...  1824.784595 -29.244595\n",
            "3   04 February 2021  1795.54  ...  1791.416858  22.833142\n",
            "4   05 February 2021  1814.25  ...  1807.499041  23.110959\n",
            "5   08 February 2021  1830.61  ...  1821.561282  14.688718\n",
            "6   09 February 2021  1836.25  ...  1826.409145  15.670855\n",
            "7   10 February 2021  1842.08  ...  1831.420322  -4.600322\n",
            "8   11 February 2021  1826.82  ...  1818.303587   6.466413\n",
            "9   12 February 2021  1824.77  ...  1816.541509   2.188491\n",
            "10  15 February 2021  1818.73  ...  1811.349826 -22.869826\n",
            "11  16 February 2021  1788.48  ...  1785.348434  -7.078434\n",
            "12  17 February 2021  1778.27  ...  1776.572426  -5.052426\n",
            "13  18 February 2021  1771.52  ...  1770.770463  13.509537\n",
            "14  19 February 2021  1784.28  ...  1781.738323  28.931677\n",
            "15  22 February 2021  1810.67  ...  1804.421852   1.568148\n",
            "16  23 February 2021  1805.99  ...  1800.399157   2.700843\n",
            "17  24 February 2021  1803.10  ...  1797.915057 -27.225057\n",
            "18  25 February 2021  1770.69  ...  1770.057036 -35.277036\n",
            "\n",
            "[19 rows x 9 columns]\n"
          ],
          "name": "stdout"
        }
      ]
    },
    {
      "cell_type": "code",
      "metadata": {
        "colab": {
          "base_uri": "https://localhost:8080/"
        },
        "id": "yAZQOsuN0v1f",
        "outputId": "ccdc0d8b-bd44-48e2-e3b9-624c672ebdfc"
      },
      "source": [
        "dataset['(y - Est_y)^2'] = dataset['y - Est_y']*dataset['y - Est_y']\r\n",
        "print(dataset)"
      ],
      "execution_count": null,
      "outputs": [
        {
          "output_type": "stream",
          "text": [
            "                Date        x        y  ...        Est_y  y - Est_y  (y - Est_y)^2\n",
            "0   01 February 2021  1857.36  1836.48  ...  1844.554248  -8.074248      65.193487\n",
            "1   02 February 2021  1836.48  1834.36  ...  1826.606841   7.753159      60.111473\n",
            "2   03 February 2021  1834.36  1795.54  ...  1824.784595 -29.244595     855.246324\n",
            "3   04 February 2021  1795.54  1814.25  ...  1791.416858  22.833142     521.352388\n",
            "4   05 February 2021  1814.25  1830.61  ...  1807.499041  23.110959     534.116420\n",
            "5   08 February 2021  1830.61  1836.25  ...  1821.561282  14.688718     215.758446\n",
            "6   09 February 2021  1836.25  1842.08  ...  1826.409145  15.670855     245.575710\n",
            "7   10 February 2021  1842.08  1826.82  ...  1831.420322  -4.600322      21.162962\n",
            "8   11 February 2021  1826.82  1824.77  ...  1818.303587   6.466413      41.814502\n",
            "9   12 February 2021  1824.77  1818.73  ...  1816.541509   2.188491       4.789494\n",
            "10  15 February 2021  1818.73  1788.48  ...  1811.349826 -22.869826     523.028933\n",
            "11  16 February 2021  1788.48  1778.27  ...  1785.348434  -7.078434      50.104222\n",
            "12  17 February 2021  1778.27  1771.52  ...  1776.572426  -5.052426      25.527013\n",
            "13  18 February 2021  1771.52  1784.28  ...  1770.770463  13.509537     182.507592\n",
            "14  19 February 2021  1784.28  1810.67  ...  1781.738323  28.931677     837.041939\n",
            "15  22 February 2021  1810.67  1805.99  ...  1804.421852   1.568148       2.459090\n",
            "16  23 February 2021  1805.99  1803.10  ...  1800.399157   2.700843       7.294554\n",
            "17  24 February 2021  1803.10  1770.69  ...  1797.915057 -27.225057     741.203722\n",
            "18  25 February 2021  1770.69  1734.78  ...  1770.057036 -35.277036    1244.469289\n",
            "\n",
            "[19 rows x 10 columns]\n"
          ],
          "name": "stdout"
        }
      ]
    },
    {
      "cell_type": "code",
      "metadata": {
        "colab": {
          "base_uri": "https://localhost:8080/"
        },
        "id": "yn07YgEs1wx8",
        "outputId": "cbc4fb9e-14ec-4626-f4f2-00127cade670"
      },
      "source": [
        "#calculating Mean Square Error and Root Mean Square Error\r\n",
        "\r\n",
        "import math\r\n",
        "\r\n",
        "mse=dataset['(y - Est_y)^2'].mean()\r\n",
        "rmse=math.sqrt(mse)\r\n",
        "print(\"MSE : \",mse,\"\\nRMSE :\",rmse)"
      ],
      "execution_count": null,
      "outputs": [
        {
          "output_type": "stream",
          "text": [
            "MSE :  325.1977662789013 \n",
            "RMSE : 18.033240592830268\n"
          ],
          "name": "stdout"
        }
      ]
    },
    {
      "cell_type": "code",
      "metadata": {
        "colab": {
          "base_uri": "https://localhost:8080/",
          "height": 281
        },
        "id": "iUGKaPxk27Fz",
        "outputId": "b3f1c3d2-b9b7-4639-9d74-01a77038e7da"
      },
      "source": [
        "#Visualisation\r\n",
        "#plotting x,y\r\n",
        "\r\n",
        "import matplotlib.pyplot as plt\r\n",
        "\r\n",
        "plt.scatter(dataset['x'],dataset['y'])\r\n",
        "plt.title(\"Visualising X, Actual Y\")\r\n",
        "plt.show()"
      ],
      "execution_count": null,
      "outputs": [
        {
          "output_type": "display_data",
          "data": {
            "image/png": "[encoded data removed]",
            "text/plain": [
              "<Figure size 432x288 with 1 Axes>"
            ]
          },
          "metadata": {
            "tags": [],
            "needs_background": "light"
          }
        }
      ]
    },
    {
      "cell_type": "code",
      "metadata": {
        "colab": {
          "base_uri": "https://localhost:8080/",
          "height": 355
        },
        "id": "TQq_d-yg4JGi",
        "outputId": "0ceb7d72-35ab-4bf9-8374-36b95898088b"
      },
      "source": [
        "#Line equation for the dataset\r\n",
        "\r\n",
        "plt.scatter(dataset['x'],dataset['y'])\r\n",
        "plt.plot(dataset['x'],dataset['Est_y'])\r\n",
        "plt.title(\"Equ. of line\")\r\n",
        "plt.show()\r\n",
        "print(\"\\nLinear Regression model equ.: y = \",slope,\"x + \",intercept)\r\n",
        "print(\"MSE : \",mse,\"\\nRMSE :\",rmse)"
      ],
      "execution_count": null,
      "outputs": [
        {
          "output_type": "display_data",
          "data": {
            "image/png": "[encoded data removed]",
            "text/plain": [
              "<Figure size 432x288 with 1 Axes>"
            ]
          },
          "metadata": {
            "tags": [],
            "needs_background": "light"
          }
        },
        {
          "output_type": "stream",
          "text": [
            "\n",
            "Linear Regression model equ.: y =  0.8595501569232815 x +  248.06016892590424\n",
            "MSE :  325.1977662789013 \n",
            "RMSE : 18.033240592830268\n"
          ],
          "name": "stdout"
        }
      ]
    }
  ]
}